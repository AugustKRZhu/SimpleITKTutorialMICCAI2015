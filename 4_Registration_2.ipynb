{
 "cells": [
  {
   "cell_type": "markdown",
   "metadata": {},
   "source": [
    "<h1 align=\"center\">SimpleITKv4 Nonrigid Registration</h1>\n",
    "\n",
    "In our previous notebook we explored the SimpleITKv4 registration framework for rigid registration. Using other unbounded transformation models (e.g. affine) involves minimal changes to the code.\n",
    "\n",
    "In this notebook we explore the use of bounded transformations, BSpline and DisplacementField.\n",
    "\n",
    "We will work with a freely available 4D (3D+time) thoracic-abdominal CT, the Point-validated Pixel-based Breathing Thorax Model (POPI) model. This data consists of a set of temporal CT volumes, a set of masks segmenting each of the CTs to air/body/lung, and a set of corresponding points across the CT volumes.\n",
    "\n",
    "The POPI model is provided by the Léon Bérard Cancer Center & CREATIS Laboratory, Lyon, France. The relevant publication is:\n",
    "\n",
    "J. Vandemeulebroucke, D. Sarrut, P. Clarysse, \"The POPI-model, a point-validated pixel-based breathing thorax model\", Proc. XVth International Conference on the Use of Computers in Radiation Therapy (ICCR), Toronto, Canada, 2007.\n",
    "\n",
    "The POPI data, and additional 4D CT data sets with reference points are available from the CREATIS Laboratory <a href=\"http://www.creatis.insa-lyon.fr/rio/popi-model?action=show&redirect=popi\">here</a>. "
   ]
  },
  {
   "cell_type": "code",
   "execution_count": null,
   "metadata": {
    "collapsed": false
   },
   "outputs": [],
   "source": [
    "import SimpleITK as sitk\n",
    "\n",
    "from __future__ import print_function\n",
    "\n",
    "# Utility method that either downloads data from the MIDAS repository or\n",
    "# if already downloaded returns the file name for reading from disk (cached data).\n",
    "from downloaddata import fetch_data as fdata\n",
    "\n",
    "# Always write output to a separate directory, we don't want to pollute the source directory. \n",
    "import os\n",
    "OUTPUT_DIR = 'Output'"
   ]
  },
  {
   "cell_type": "markdown",
   "metadata": {},
   "source": [
    "## Utility functions \n",
    "\n",
    "Callback functions for image display and for ploting the similarity metric during registration."
   ]
  },
  {
   "cell_type": "code",
   "execution_count": null,
   "metadata": {
    "collapsed": false
   },
   "outputs": [],
   "source": [
    "%matplotlib inline\n",
    "%run registration_utilities.py"
   ]
  },
  {
   "cell_type": "markdown",
   "metadata": {},
   "source": [
    "## Read the POPI images masks and reference data"
   ]
  },
  {
   "cell_type": "code",
   "execution_count": null,
   "metadata": {
    "collapsed": false
   },
   "outputs": [],
   "source": [
    "fixed_image =  sitk.ReadImage(fdata('POPI/meta/00-P.mhd'), sitk.sitkFloat32)\n",
    "fixed_mask = sitk.ReadImage(fdata('POPI/masks/00-air-body-lungs.mhd'))\n",
    "fixed_points = read_POPI_points(fdata('POPI/landmarks/00-Landmarks.pts'))\n",
    "\n",
    "moving_image =  sitk.ReadImage(fdata('POPI/meta/70-P.mhd'), sitk.sitkFloat32)\n",
    "moving_mask = sitk.ReadImage(fdata('POPI/masks/70-air-body-lungs.mhd'))\n",
    "moving_points = read_POPI_points(fdata('POPI/landmarks/70-Landmarks.pts'))\n",
    "\n",
    "interact(display_coronal_with_overlay, temporal_slice=(0,1), \n",
    "         coronal_slice = (0, fixed_image.GetSize()[1]-1), \n",
    "         images = fixed([fixed_image,moving_image]), masks = fixed([fixed_mask,moving_mask]), \n",
    "         label=fixed(lung_label), window_min = fixed(-1024), window_max=fixed(976));"
   ]
  },
  {
   "cell_type": "markdown",
   "metadata": {},
   "source": [
    "## Free Form Deformation\n",
    "\n",
    "This registration approach uses a grid of control points to perform apply a BSpline transformation to the data and was popularized at the end of the last century. Note that the approach itself does admit unplausible transformations (yes folding can happen). The current ITK and hence SimpleITK implementation does not include regularization.\n",
    "\n",
    "### Initial Alignment\n",
    "\n",
    "As we are aligning two CTs capturing two respiratory phases of the same subject in the same position we will create a control grid that is physically overlaid on the image, representing the identity transform."
   ]
  },
  {
   "cell_type": "code",
   "execution_count": null,
   "metadata": {
    "collapsed": false
   },
   "outputs": [],
   "source": [
    "# Determine the number of Bspline control points using the physical spacing we want for the control grid. \n",
    "grid_physical_spacing = [50.0, 50.0, 50.0] # A control point every 50mm\n",
    "image_physical_size = [size*spacing for size,spacing in zip(fixed_image.GetSize(), fixed_image.GetSpacing())]\n",
    "mesh_size = [int(image_size/grid_spacing + 0.5) \\\n",
    "             for image_size,grid_spacing in zip(image_physical_size,grid_physical_spacing)]\n",
    "\n",
    "transform = sitk.BSplineTransformInitializer(image1 = fixed_image, \n",
    "                                             transformDomainMeshSize = mesh_size, order=3)   \n",
    "\n",
    "pre_errors_mean, pre_errors_std, _, pre_errors_max, pre_errors = registration_errors(transform, fixed_points, moving_points, display_errors=True)\n",
    "print('Before registration, errors (TRE) in millimeters, mean(std): {:.2f}({:.2f}), max: {:.2f}'.format(pre_errors_mean, pre_errors_std, pre_errors_max))"
   ]
  },
  {
   "cell_type": "markdown",
   "metadata": {},
   "source": [
    "### Final Alignment\n",
    "\n",
    "Perform registration on a low resolution version of the images with our BSpline transform and a mean squares similarity metric (intra-modal registration). "
   ]
  },
  {
   "cell_type": "code",
   "execution_count": null,
   "metadata": {
    "collapsed": false
   },
   "outputs": [],
   "source": [
    "registration_method = sitk.ImageRegistrationMethod()\n",
    "registration_method.SetInitialTransform(transform) # Transformation is modified in place.\n",
    "        \n",
    "registration_method.SetMetricAsMeanSquares()\n",
    "registration_method.SetMetricSamplingStrategy(registration_method.RANDOM)\n",
    "registration_method.SetMetricSamplingPercentage(0.1)\n",
    "\n",
    "registration_method.SetShrinkFactorsPerLevel(shrinkFactors = [8]) # Aggressively resampled data (speed).\n",
    "registration_method.SetSmoothingSigmasPerLevel(smoothingSigmas=[4])\n",
    "\n",
    "registration_method.SetInterpolator(sitk.sitkLinear)\n",
    "registration_method.SetOptimizerAsLBFGSB(gradientConvergenceTolerance=1e-5, maximumNumberOfIterations=50)\n",
    "\n",
    "registration_method.AddCommand(sitk.sitkStartEvent, metric_and_reference_start_plot)\n",
    "registration_method.AddCommand(sitk.sitkEndEvent, metric_and_reference_end_plot)\n",
    "registration_method.AddCommand(sitk.sitkIterationEvent, lambda: metric_and_reference_plot_values(registration_method, fixed_points, moving_points))\n",
    "\n",
    "registration_method.Execute(fixed_image, moving_image)\n",
    "print('Final metric value: {0}'.format(registration_method.GetMetricValue()))\n",
    "print('Optimizer\\'s stopping condition, {0}\\n'.format(registration_method.GetOptimizerStopConditionDescription()))"
   ]
  },
  {
   "cell_type": "code",
   "execution_count": null,
   "metadata": {
    "collapsed": false
   },
   "outputs": [],
   "source": [
    "final_errors_mean, final_errors_std, _, final_errors_max, final_errors = registration_errors(transform, fixed_points, moving_points, display_errors=True)\n",
    "print('After final alignment, errors (TRE) in millimeters, mean(std): {:.2f}({:.2f}), max: {:.2f}'.format(final_errors_mean, final_errors_std, final_errors_max))"
   ]
  },
  {
   "cell_type": "markdown",
   "metadata": {},
   "source": [
    "## Demons Registration\n",
    "\n",
    "This registration approach is based on an analogy to Maxwell's Demons with differential equations related to optical flow. Similar to the FFD this framework was popularized at the end of the last century and begining of this one. The transformation is represented by a DeformationField. The basic approach, as implemented in ITK, supports regularization via smoothing. Variants of the approach that yield a diffeomorphic transformation, and symmetric formulations are also available.  \n",
    "\n",
    "### Initial Alignment\n",
    "\n",
    "As we are aligning two CTs capturing two respiratory phases of the same subject in the same position we will create a displacement field transform representing the identity transform which has the same dimensions as the fixed image and is aligned with it."
   ]
  },
  {
   "cell_type": "code",
   "execution_count": null,
   "metadata": {
    "collapsed": false
   },
   "outputs": [],
   "source": [
    "transform_to_displacment_field_filter = sitk.TransformToDisplacementFieldFilter()\n",
    "transform_to_displacment_field_filter.SetReferenceImage(fixed_image)\n",
    "# The image returned from the initial_transform_filter is transferred to the transform and cleared out.\n",
    "transform = sitk.DisplacementFieldTransform(transform_to_displacment_field_filter.Execute(sitk.Transform()))\n",
    "# Specify how to regularize the transform when updated during registration (update field - viscous, total field - elastic))\n",
    "transform.SetSmoothingGaussianOnUpdate(varianceForUpdateField=0.0, varianceForTotalField=2.0); "
   ]
  },
  {
   "cell_type": "markdown",
   "metadata": {},
   "source": [
    "### Final Alignment\n",
    "\n",
    "Perform registration on a low resolution version of the images with our DisplacementField transform and a Demons \n",
    "similarity metric (intra-modal registration). "
   ]
  },
  {
   "cell_type": "code",
   "execution_count": null,
   "metadata": {
    "collapsed": false
   },
   "outputs": [],
   "source": [
    "registration_method = sitk.ImageRegistrationMethod()\n",
    "registration_method.SetInitialTransform(transform)\n",
    "\n",
    "registration_method.SetMetricAsDemons(10)\n",
    "\n",
    "registration_method.SetShrinkFactorsPerLevel(shrinkFactors = [8]) # Aggressively resampled data (speed).\n",
    "registration_method.SetSmoothingSigmasPerLevel(smoothingSigmas=[4])\n",
    "\n",
    "registration_method.SetInterpolator(sitk.sitkLinear)\n",
    "\n",
    "registration_method.SetOptimizerAsConjugateGradientLineSearch(learningRate=1.0, numberOfIterations=20)\n",
    "\n",
    "registration_method.AddCommand(sitk.sitkStartEvent, metric_and_reference_start_plot)\n",
    "registration_method.AddCommand(sitk.sitkEndEvent, metric_and_reference_end_plot)\n",
    "registration_method.AddCommand(sitk.sitkIterationEvent, lambda: metric_and_reference_plot_values(registration_method, fixed_points, moving_points))\n",
    "\n",
    "registration_method.Execute(fixed_image, moving_image)\n",
    "print('Final metric value: {0}'.format(registration_method.GetMetricValue()))\n",
    "print('Optimizer\\'s stopping condition, {0}\\n'.format(registration_method.GetOptimizerStopConditionDescription()))"
   ]
  },
  {
   "cell_type": "code",
   "execution_count": null,
   "metadata": {
    "collapsed": false
   },
   "outputs": [],
   "source": [
    "final_errors_mean, final_errors_std, _, final_errors_max, final_errors = registration_errors(transform, fixed_points, moving_points, display_errors=True)\n",
    "print('After final alignment, errors (TRE) in millimeters, mean(std): {:.2f}({:.2f}), max: {:.2f}'.format(final_errors_mean, final_errors_std, final_errors_max))"
   ]
  },
  {
   "cell_type": "markdown",
   "metadata": {},
   "source": [
    "## Demons - filters outside the registration framework\n",
    "\n",
    "ITK and SimpleITK include extensions of the original Demons algorithm which are independent of the registration framework (ImageRegistrationMethod). These include: \n",
    "1. DemonsRegistrationFilter\n",
    "2. DiffeomorphicDemonsRegistrationFilter\n",
    "3. SymmetricForcesDemonsRegistrationFilter\n",
    "4. FastSymmetricForcesDemonsRegistrationFilter\n",
    "\n",
    "Note that unlike the registration framework, these filters return an image representing the displacement field and not a transform."
   ]
  },
  {
   "cell_type": "code",
   "execution_count": null,
   "metadata": {
    "collapsed": true
   },
   "outputs": [],
   "source": [
    "# Resample the input images on our own, as we don't have access to the registration frameworks multi-resolution\n",
    "\n",
    "def smooth_and_resample(image, shrink_factor, smoothing_sigma):\n",
    "    \"\"\"\n",
    "    Args:\n",
    "        image: The image we want to resample.\n",
    "        shrink_factor: A number greater than one, such that the new image's size is original_size/shrink_factor.\n",
    "        smoothing_sigma: Sigma for Gaussian smoothing, this is in physical (image spacing) units, not pixels.\n",
    "    Return:\n",
    "        Image which is a result of smoothing the input and then resampling it using the given sigma and shrink factor.\n",
    "    \"\"\"\n",
    "    smoothed_image = sitk.SmoothingRecursiveGaussian(image, smoothing_sigma)\n",
    "    \n",
    "    original_spacing = image.GetSpacing()\n",
    "    original_size = image.GetSize()\n",
    "    new_size = [int(sz/float(shrink_factor) + 0.5) for sz in original_size]\n",
    "    new_spacing = [((original_sz-1)*original_spc)/(new_sz-1) \n",
    "                   for original_sz, original_spc, new_sz in zip(original_size, original_spacing, new_size)]\n",
    "    return sitk.Resample(smoothed_image, new_size, sitk.Transform(), \n",
    "                         sitk.sitkLinear, image.GetOrigin(),\n",
    "                         new_spacing, image.GetDirection(), 0.0, \n",
    "                         image.GetPixelIDValue())\n",
    "\n",
    "shrink = 8\n",
    "smooth = 4\n",
    "\n",
    "resampled_fixed_image = smooth_and_resample(image=fixed_image, shrink_factor=shrink, smoothing_sigma=smooth)\n",
    "resampled_moving_image = smooth_and_resample(image=moving_image, shrink_factor=shrink, smoothing_sigma=smooth)"
   ]
  },
  {
   "cell_type": "code",
   "execution_count": null,
   "metadata": {
    "collapsed": false
   },
   "outputs": [],
   "source": [
    "# Define a simple callback which allows us to monitor the Demons filter's progress.\n",
    "def iteration_callback(filter):\n",
    "    print('\\r{0}: {1:.2f}'.format(filter.GetElapsedIterations(), filter.GetMetric()), end='')\n",
    "\n",
    "# Our demons filter of choice    \n",
    "demons_filter =  sitk.FastSymmetricForcesDemonsRegistrationFilter()\n",
    "demons_filter.SetNumberOfIterations(20)\n",
    "# Regularization (update field - viscous, total field - elastic).\n",
    "demons_filter.SetSmoothDisplacementField(True)\n",
    "demons_filter.SetStandardDeviations(2.0)\n",
    "\n",
    "# Add our simple callback to the registration filter.\n",
    "demons_filter.AddCommand(sitk.sitkIterationEvent, lambda: iteration_callback(demons_filter))\n",
    "displacement_field_image = demons_filter.Execute(resampled_fixed_image, resampled_moving_image)\n",
    "    \n",
    "transform = sitk.DisplacementFieldTransform(displacement_field_image)"
   ]
  },
  {
   "cell_type": "code",
   "execution_count": null,
   "metadata": {
    "collapsed": false
   },
   "outputs": [],
   "source": [
    "final_errors_mean, final_errors_std, _, final_errors_max, final_errors = registration_errors(transform, fixed_points, moving_points, display_errors=True)\n",
    "print('After final alignment, errors (TRE) in millimeters, mean(std): {:.2f}({:.2f}), max: {:.2f}'.format(final_errors_mean, final_errors_std, final_errors_max))"
   ]
  },
  {
   "cell_type": "markdown",
   "metadata": {},
   "source": [
    "## Coarse evaluation of registration\n",
    "\n",
    "Another option for evaluating registration is to use segmentation as a reference, transferring the segmentation from one image to the other and comparing the two segmentations."
   ]
  },
  {
   "cell_type": "code",
   "execution_count": null,
   "metadata": {
    "collapsed": true
   },
   "outputs": [],
   "source": [
    "def evaluate_registration_via_segmentation(transform, fixed_image, fixed_mask, moving_mask, seg_label):\n",
    "    # Transfer the segmentation via the estimated transformation. Use Nearest Neighbor interpolation to retain the labels.\n",
    "    transformed_labels = sitk.Resample(moving_mask,\n",
    "                                       fixed_image,\n",
    "                                       transform, \n",
    "                                       sitk.sitkNearestNeighbor,\n",
    "                                       0.0, \n",
    "                                       moving_mask.GetPixelIDValue())\n",
    "\n",
    "    segmentations_before_and_after = [moving_mask, transformed_labels]\n",
    "    interact(display_coronal_with_label_maps_overlay, coronal_slice = (0, fixed_image.GetSize()[1]-1),\n",
    "             mask_index=(0,len(segmentations_before_and_after)-1),\n",
    "             image = fixed(fixed_image), masks = fixed(segmentations_before_and_after), \n",
    "             label=fixed(seg_label), window_min = fixed(-1024), window_max=fixed(976));\n",
    "\n",
    "    # Compute the Dice coefficient and Hausdorff distance between the segmentations before, and after registration.\n",
    "    ground_truth = fixed_mask == seg_label\n",
    "    before_registration = moving_mask == seg_label\n",
    "    after_registration = transformed_labels == seg_label\n",
    "\n",
    "    label_overlap_measures_filter = sitk.LabelOverlapMeasuresImageFilter()\n",
    "    label_overlap_measures_filter.Execute(ground_truth, before_registration)\n",
    "    print(\"Dice coefficient before registration: {:.2f}\".format(label_overlap_measures_filter.GetDiceCoefficient()))\n",
    "    label_overlap_measures_filter.Execute(ground_truth, after_registration)\n",
    "    print(\"Dice coefficient after registration: {:.2f}\".format(label_overlap_measures_filter.GetDiceCoefficient()))\n",
    "\n",
    "    hausdorff_distance_image_filter = sitk.HausdorffDistanceImageFilter()\n",
    "    hausdorff_distance_image_filter.Execute(ground_truth, before_registration)\n",
    "    print(\"Hausdorff distance before registration: {:.2f}\".format(hausdorff_distance_image_filter.GetHausdorffDistance()))\n",
    "    hausdorff_distance_image_filter.Execute(ground_truth, after_registration)\n",
    "    print(\"Hausdorff distance after registration: {:.2f}\".format(hausdorff_distance_image_filter.GetHausdorffDistance()))"
   ]
  },
  {
   "cell_type": "code",
   "execution_count": null,
   "metadata": {
    "collapsed": false
   },
   "outputs": [],
   "source": [
    "evaluate_registration_via_segmentation(transform, fixed_image, fixed_mask, moving_mask, lung_label)"
   ]
  },
  {
   "cell_type": "markdown",
   "metadata": {},
   "source": [
    "## Exercises"
   ]
  },
  {
   "cell_type": "markdown",
   "metadata": {},
   "source": [
    "In this section you will explore the effects of various settings on the registration:\n",
    "<ol>\n",
    "<li>\n",
    "Modify the spacing of the FFD control grid: how do the accuracy and runtime of the registration change when using a sparser grid?\n",
    "</li>\n",
    "<li>\n",
    "Modify the resolutions used in the FFD framework.\n",
    "</li>\n",
    "<li>\n",
    "In the Demons filter based registration:\n",
    "<ol>\n",
    "    <li>\n",
    "    Modify the shrink factor and resolution, how do they effect registration accuracy and runtime?\n",
    "    </li>\n",
    "    <li>\n",
    "    Try the other filters from the Demons family of filters and identify the one that yields the most accurate results.\n",
    "    </li>\n",
    "</ol>\n",
    "</li>   \n",
    "</ol>   "
   ]
  },
  {
   "cell_type": "code",
   "execution_count": null,
   "metadata": {
    "collapsed": true
   },
   "outputs": [],
   "source": []
  }
 ],
 "metadata": {
  "kernelspec": {
   "display_name": "Python 3",
   "language": "python",
   "name": "python3"
  },
  "language_info": {
   "codemirror_mode": {
    "name": "ipython",
    "version": 3
   },
   "file_extension": ".py",
   "mimetype": "text/x-python",
   "name": "python",
   "nbconvert_exporter": "python",
   "pygments_lexer": "ipython3",
   "version": "3.4.3"
  }
 },
 "nbformat": 4,
 "nbformat_minor": 0
}
