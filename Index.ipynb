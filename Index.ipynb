{
 "cells": [
  {
   "cell_type": "markdown",
   "metadata": {
    "slideshow": {
     "slide_type": "slide"
    }
   },
   "source": [
    "# SimpleITK Registration\n",
    "\n",
    "## An Interactive, Python-based Introduction to Registration the Insight Toolkit (ITK)\n",
    "\n",
    "[![MICCAI 2015](Data/MiccaiBanner.png)](http://www.itk.org/Wiki/SimpleITK/Tutorials/MICCAI2015)\n",
    "\n",
    "### 2015 MICCAI Conference\n",
    "\n",
    "#### Brian Avants, University of Pennsylvania\n",
    "#### Hans Johnson, University of Iowa\n",
    "#### Bradley Lowekamp, Medical Science & Computing and National Institutes of Health\n",
    "#### Matthew McCormick, Kitware Inc\n",
    "#### Nick Tustison, University of Virginia\n",
    "#### Ziv Yaniv, TAJ Technologies Inc. and National Institutes of Health\n",
    "\n",
    "[![Circle CI](https://circleci.com/gh/InsightSoftwareConsortium/SimpleITKWorkshopImageJ2015.svg?style=svg)](https://circleci.com/gh/InsightSoftwareConsortium/SimpleITKWorkshopImageJ2015)"
   ]
  },
  {
   "cell_type": "markdown",
   "metadata": {
    "slideshow": {
     "slide_type": "slide"
    }
   },
   "source": [
    "## Who Should Attend\n",
    "\n",
    "* Do you want your students to gain practical experience with registration while minimizing their programming load?\n",
    "* Do you want to easily experiment with various ITK registration configurations, or optimize the settings of a specific registration configuration?\n",
    "\n",
    "If you answered yes to either of these questions, then this tutorial is for you.\n",
    "\n",
    "[![SimpleITK](Data/SimpleITKLogo.png)](http://www.simpleitk.org/)\n",
    "\n",
    "The goal of this half-day tutorial is to introduce students and researchers to SimpleITK’s interface for the ITK version 4 registration framework. SimpleITK is, as the name suggests, a simpler interface to ITK. It provides a procedural interface and bindings to several interpreted languages, facilitating fast experimentation with ITK algorithms. In this tutorial we will use the Python programming language and the IPython Notebook interactive environment to explore the various features of the ITKv4 registration framework. Key features presented include: uniform treatment of linear, deformable and composite transformations, embedded multi-resolution registration and self calibrating optimizers. Using a hands on approach, participants will experiment with various registration tasks, learning how to use"
   ]
  },
  {
   "cell_type": "markdown",
   "metadata": {
    "slideshow": {
     "slide_type": "slide"
    }
   },
   "source": [
    "## Program\n",
    "\n",
    "1. 8:30am: [Setup and introduction](1_Setup_and_introduction.ipynb) [Matthew McCormick and Hans Johnson].\n",
    "2. 9:00am: SimpleITK basics: loading data, image access, image transformations, image resampling, basic filters [Matthew McCormick].\n",
    "3. 10:00am: The ITKv4 registration framework [Nick Tustison and Brian Avants].\n",
    "4. 10:30am: Coffee break.\n",
    "5. 10:45am: Registration 1: composite transform, transformation initialization, embedded multi-resolution, scale parameter estimation, optimization termination criteria [Ziv Yaniv].\n",
    "6. 11:30am: Registration 2: nonrigid registration - Nonrigid registration, Bspline and displacement field transformations [Ziv Yaniv].\n",
    "7. 12:30pm: Lunch."
   ]
  }
 ],
 "metadata": {
  "kernelspec": {
   "display_name": "Python 3",
   "language": "python",
   "name": "python3"
  },
  "language_info": {
   "codemirror_mode": {
    "name": "ipython",
    "version": 3
   },
   "file_extension": ".py",
   "mimetype": "text/x-python",
   "name": "python",
   "nbconvert_exporter": "python",
   "pygments_lexer": "ipython3",
   "version": "3.4.2"
  }
 },
 "nbformat": 4,
 "nbformat_minor": 0
}
